{
 "cells": [
  {
   "cell_type": "code",
   "execution_count": 6,
   "id": "fcf61962",
   "metadata": {},
   "outputs": [
    {
     "name": "stderr",
     "output_type": "stream",
     "text": [
      "/home/forkbo/p3_envs/env1/lib/python3.8/site-packages/prefect/flows.py:206: UserWarning: A flow named 'myflow' and defined at '/tmp/ipykernel_4829/2128776216.py:3' conflicts with another flow. Consider specifying a unique `name` parameter in the flow definition:\n",
      "\n",
      " `@flow(name='my_unique_name', ...)`\n",
      "  warnings.warn(\n",
      "/tmp/ipykernel_4829/2128776216.py:11: RuntimeWarning: coroutine 'Deployment.build_from_flow' was never awaited\n",
      "  deployment_dev = Deployment.build_from_flow(\n",
      "RuntimeWarning: Enable tracemalloc to get the object allocation traceback\n",
      "/tmp/ipykernel_4829/2128776216.py:20: RuntimeWarning: coroutine 'Deployment.build_from_flow' was never awaited\n",
      "  deployment_prod = Deployment.build_from_flow(\n",
      "RuntimeWarning: Enable tracemalloc to get the object allocation traceback\n"
     ]
    },
    {
     "data": {
      "text/plain": [
       "<coroutine object Deployment.build_from_flow at 0x7f0f98306dc0>"
      ]
     },
     "execution_count": 6,
     "metadata": {},
     "output_type": "execute_result"
    }
   ],
   "source": [
    "from prefect import flow\n",
    "\n",
    "@flow\n",
    "def myflow():\n",
    "    print(\"hello\")\n",
    "\n",
    "from prefect.deployments import Deployment\n",
    "from prefect.orion.schemas.schedules import IntervalSchedule\n",
    "from datetime import timedelta\n",
    "\n",
    "deployment_dev = Deployment.build_from_flow(\n",
    "    flow=myflow,\n",
    "    name=\"model_training-dev\",\n",
    "    schedule=IntervalSchedule(interval=timedelta(minutes=5)),\n",
    "    work_queue_name=\"dev\"\n",
    ")\n",
    "\n",
    "deployment_dev\n",
    "\n",
    "deployment_prod = Deployment.build_from_flow(\n",
    "    flow=myflow,\n",
    "    name=\"model_training-prod\",\n",
    "    schedule=IntervalSchedule(interval=timedelta(minutes=5)),\n",
    "    work_queue_name=\"prod\"\n",
    ")\n",
    "\n",
    "deployment_prod"
   ]
  },
  {
   "cell_type": "code",
   "execution_count": null,
   "id": "37ae95f0",
   "metadata": {},
   "outputs": [],
   "source": []
  }
 ],
 "metadata": {
  "kernelspec": {
   "display_name": "Python 3 (ipykernel)",
   "language": "python",
   "name": "python3"
  },
  "language_info": {
   "codemirror_mode": {
    "name": "ipython",
    "version": 3
   },
   "file_extension": ".py",
   "mimetype": "text/x-python",
   "name": "python",
   "nbconvert_exporter": "python",
   "pygments_lexer": "ipython3",
   "version": "3.8.3"
  }
 },
 "nbformat": 4,
 "nbformat_minor": 5
}
