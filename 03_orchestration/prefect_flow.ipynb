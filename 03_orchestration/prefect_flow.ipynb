{
 "cells": [
  {
   "cell_type": "code",
   "execution_count": 1,
   "id": "0417432c",
   "metadata": {},
   "outputs": [],
   "source": [
    "import pandas as pd\n",
    "import pickle\n",
    "\n",
    "from sklearn.feature_extraction import DictVectorizer\n",
    "from sklearn.metrics import mean_squared_error\n",
    "\n",
    "import xgboost as xgb\n",
    "\n",
    "from hyperopt import fmin, tpe, hp, STATUS_OK, Trials\n",
    "from hyperopt.pyll import scope\n",
    "\n",
    "import mlflow\n",
    "\n",
    "from prefect import flow, task\n",
    "\n",
    "@task\n",
    "def read_dataframe(filename):\n",
    "    df = pd.read_parquet(filename)\n",
    "\n",
    "    df.lpep_dropoff_datetime = pd.to_datetime(df.lpep_dropoff_datetime)\n",
    "    df.lpep_pickup_datetime = pd.to_datetime(df.lpep_pickup_datetime)\n",
    "\n",
    "    df['duration'] = df.lpep_dropoff_datetime - df.lpep_pickup_datetime\n",
    "    df.duration = df.duration.apply(lambda td: td.total_seconds() / 60)\n",
    "\n",
    "    df = df[(df.duration >= 1) & (df.duration <= 60)]\n",
    "\n",
    "    categorical = ['PULocationID', 'DOLocationID']\n",
    "    df[categorical] = df[categorical].astype(str)\n",
    "    \n",
    "    return df\n",
    "\n",
    "@task\n",
    "def add_features(df_train, df_val):\n",
    "    # df_train = read_dataframe(train_path)\n",
    "    # df_val = read_dataframe(val_path)\n",
    "\n",
    "    print(len(df_train))\n",
    "    print(len(df_val))\n",
    "\n",
    "    df_train['PU_DO'] = df_train['PULocationID'] + '_' + df_train['DOLocationID']\n",
    "    df_val['PU_DO'] = df_val['PULocationID'] + '_' + df_val['DOLocationID']\n",
    "\n",
    "    categorical = ['PU_DO'] #'PULocationID', 'DOLocationID']\n",
    "    numerical = ['trip_distance']\n",
    "\n",
    "    dv = DictVectorizer()\n",
    "\n",
    "    train_dicts = df_train[categorical + numerical].to_dict(orient='records')\n",
    "    X_train = dv.fit_transform(train_dicts)\n",
    "\n",
    "    val_dicts = df_val[categorical + numerical].to_dict(orient='records')\n",
    "    X_val = dv.transform(val_dicts)\n",
    "\n",
    "    target = 'duration'\n",
    "    y_train = df_train[target].values\n",
    "    y_val = df_val[target].values\n",
    "\n",
    "    return X_train, X_val, y_train, y_val, dv\n",
    "\n",
    "@task\n",
    "def train_model_search(train, valid, y_val):\n",
    "    def objective(params):\n",
    "        with mlflow.start_run():\n",
    "            mlflow.set_tag(\"model\", \"xgboost\")\n",
    "            mlflow.log_params(params)\n",
    "            booster = xgb.train(\n",
    "                params=params,\n",
    "                dtrain=train,\n",
    "                num_boost_round=100,\n",
    "                evals=[(valid, 'validation')],\n",
    "                early_stopping_rounds=50\n",
    "            )\n",
    "            y_pred = booster.predict(valid)\n",
    "            rmse = mean_squared_error(y_val, y_pred, squared=False)\n",
    "            mlflow.log_metric(\"rmse\", rmse)\n",
    "\n",
    "        return {'loss': rmse, 'status': STATUS_OK}\n",
    "\n",
    "    search_space = {\n",
    "        'max_depth': scope.int(hp.quniform('max_depth', 4, 100, 1)),\n",
    "        'learning_rate': hp.loguniform('learning_rate', -3, 0),\n",
    "        'reg_alpha': hp.loguniform('reg_alpha', -5, -1),\n",
    "        'reg_lambda': hp.loguniform('reg_lambda', -6, -1),\n",
    "        'min_child_weight': hp.loguniform('min_child_weight', -1, 3),\n",
    "        'objective': 'reg:linear',\n",
    "        'seed': 42\n",
    "    }\n",
    "\n",
    "    best_result = fmin(\n",
    "        fn=objective,\n",
    "        space=search_space,\n",
    "        algo=tpe.suggest,\n",
    "        max_evals=1,\n",
    "        trials=Trials()\n",
    "    )\n",
    "    return\n",
    "\n",
    "@task\n",
    "def train_best_model(train, valid, y_val, dv):\n",
    "    with mlflow.start_run():\n",
    "\n",
    "        best_params = {\n",
    "            'learning_rate': 0.09585355369315604,\n",
    "            'max_depth': 30,\n",
    "            'min_child_weight': 1.060597050922164,\n",
    "            'objective': 'reg:linear',\n",
    "            'reg_alpha': 0.018060244040060163,\n",
    "            'reg_lambda': 0.011658731377413597,\n",
    "            'seed': 42\n",
    "        }\n",
    "\n",
    "        mlflow.log_params(best_params)\n",
    "\n",
    "        booster = xgb.train(\n",
    "            params=best_params,\n",
    "            dtrain=train,\n",
    "            num_boost_round=100,\n",
    "            evals=[(valid, 'validation')],\n",
    "            early_stopping_rounds=50\n",
    "        )\n",
    "\n",
    "        y_pred = booster.predict(valid)\n",
    "        rmse = mean_squared_error(y_val, y_pred, squared=False)\n",
    "        mlflow.log_metric(\"rmse\", rmse)\n",
    "\n",
    "        with open(\"model/preprocessor.b\", \"wb\") as f_out:\n",
    "            pickle.dump(dv, f_out)\n",
    "        mlflow.log_artifact(\"model/preprocessor.b\", artifact_path=\"preprocessor\")\n",
    "\n",
    "        mlflow.xgboost.log_model(booster, artifact_path=\"models_mlflow\")\n",
    "\n"
   ]
  },
  {
   "cell_type": "code",
   "execution_count": 7,
   "id": "d5007fb7",
   "metadata": {},
   "outputs": [
    {
     "name": "stderr",
     "output_type": "stream",
     "text": [
      "/home/forkbo/p3_envs/env1/lib/python3.8/site-packages/prefect/flows.py:206: UserWarning: A flow named 'main' and defined at '/tmp/ipykernel_7001/3414888103.py:1' conflicts with another flow. Consider specifying a unique `name` parameter in the flow definition:\n",
      "\n",
      " `@flow(name='my_unique_name', ...)`\n",
      "  warnings.warn(\n"
     ]
    }
   ],
   "source": [
    "@flow\n",
    "def main(train_path: str=\"./data/green_tripdata_2022-02.parquet\",\n",
    "        val_path: str=\"./data/green_tripdata_2022-01.parquet\"):\n",
    "    MLFLOW_TRACKING_URI = \"http://localhost:5000\"\n",
    "    mlflow.set_tracking_uri(MLFLOW_TRACKING_URI)\n",
    "    mlflow.set_experiment(\"nyc-taxi-experiment\")\n",
    "    X_train = read_dataframe(train_path)\n",
    "    X_val = read_dataframe(val_path)\n",
    "    X_train, X_val, y_train, y_val, dv = add_features(X_train, X_val)\n",
    "    train = xgb.DMatrix(X_train, label=y_train)\n",
    "    valid = xgb.DMatrix(X_val, label=y_val)\n",
    "    train_model_search(train, valid, y_val)\n",
    "    train_best_model(train, valid, y_val, dv)"
   ]
  },
  {
   "cell_type": "code",
   "execution_count": 8,
   "id": "f71bc5dd",
   "metadata": {},
   "outputs": [
    {
     "data": {
      "text/html": [
       "<pre style=\"white-space:pre;overflow-x:auto;line-height:normal;font-family:Menlo,'DejaVu Sans Mono',consolas,'Courier New',monospace\">16:42:30.764 | <span style=\"color: #008080; text-decoration-color: #008080\">INFO</span>    | prefect.engine - Created flow run<span style=\"color: #800080; text-decoration-color: #800080\"> 'garnet-woodlouse'</span> for flow<span style=\"color: #800080; text-decoration-color: #800080; font-weight: bold\"> 'main'</span>\n",
       "</pre>\n"
      ],
      "text/plain": [
       "16:42:30.764 | \u001b[36mINFO\u001b[0m    | prefect.engine - Created flow run\u001b[35m 'garnet-woodlouse'\u001b[0m for flow\u001b[1;35m 'main'\u001b[0m\n"
      ]
     },
     "metadata": {},
     "output_type": "display_data"
    },
    {
     "data": {
      "text/html": [
       "<pre style=\"white-space:pre;overflow-x:auto;line-height:normal;font-family:Menlo,'DejaVu Sans Mono',consolas,'Courier New',monospace\">16:42:31.112 | <span style=\"color: #008080; text-decoration-color: #008080\">INFO</span>    | Flow run<span style=\"color: #800080; text-decoration-color: #800080\"> 'garnet-woodlouse'</span> - Created task run 'read_dataframe-0' for task 'read_dataframe'\n",
       "</pre>\n"
      ],
      "text/plain": [
       "16:42:31.112 | \u001b[36mINFO\u001b[0m    | Flow run\u001b[35m 'garnet-woodlouse'\u001b[0m - Created task run 'read_dataframe-0' for task 'read_dataframe'\n"
      ]
     },
     "metadata": {},
     "output_type": "display_data"
    },
    {
     "data": {
      "text/html": [
       "<pre style=\"white-space:pre;overflow-x:auto;line-height:normal;font-family:Menlo,'DejaVu Sans Mono',consolas,'Courier New',monospace\">16:42:31.114 | <span style=\"color: #008080; text-decoration-color: #008080\">INFO</span>    | Flow run<span style=\"color: #800080; text-decoration-color: #800080\"> 'garnet-woodlouse'</span> - Executing 'read_dataframe-0' immediately...\n",
       "</pre>\n"
      ],
      "text/plain": [
       "16:42:31.114 | \u001b[36mINFO\u001b[0m    | Flow run\u001b[35m 'garnet-woodlouse'\u001b[0m - Executing 'read_dataframe-0' immediately...\n"
      ]
     },
     "metadata": {},
     "output_type": "display_data"
    },
    {
     "data": {
      "text/html": [
       "<pre style=\"white-space:pre;overflow-x:auto;line-height:normal;font-family:Menlo,'DejaVu Sans Mono',consolas,'Courier New',monospace\">16:42:31.500 | <span style=\"color: #008080; text-decoration-color: #008080\">INFO</span>    | Task run 'read_dataframe-0' - Finished in state <span style=\"color: #008000; text-decoration-color: #008000\">Completed</span>()\n",
       "</pre>\n"
      ],
      "text/plain": [
       "16:42:31.500 | \u001b[36mINFO\u001b[0m    | Task run 'read_dataframe-0' - Finished in state \u001b[32mCompleted\u001b[0m()\n"
      ]
     },
     "metadata": {},
     "output_type": "display_data"
    },
    {
     "data": {
      "text/html": [
       "<pre style=\"white-space:pre;overflow-x:auto;line-height:normal;font-family:Menlo,'DejaVu Sans Mono',consolas,'Courier New',monospace\">16:42:31.563 | <span style=\"color: #008080; text-decoration-color: #008080\">INFO</span>    | Flow run<span style=\"color: #800080; text-decoration-color: #800080\"> 'garnet-woodlouse'</span> - Created task run 'read_dataframe-1' for task 'read_dataframe'\n",
       "</pre>\n"
      ],
      "text/plain": [
       "16:42:31.563 | \u001b[36mINFO\u001b[0m    | Flow run\u001b[35m 'garnet-woodlouse'\u001b[0m - Created task run 'read_dataframe-1' for task 'read_dataframe'\n"
      ]
     },
     "metadata": {},
     "output_type": "display_data"
    },
    {
     "data": {
      "text/html": [
       "<pre style=\"white-space:pre;overflow-x:auto;line-height:normal;font-family:Menlo,'DejaVu Sans Mono',consolas,'Courier New',monospace\">16:42:31.565 | <span style=\"color: #008080; text-decoration-color: #008080\">INFO</span>    | Flow run<span style=\"color: #800080; text-decoration-color: #800080\"> 'garnet-woodlouse'</span> - Executing 'read_dataframe-1' immediately...\n",
       "</pre>\n"
      ],
      "text/plain": [
       "16:42:31.565 | \u001b[36mINFO\u001b[0m    | Flow run\u001b[35m 'garnet-woodlouse'\u001b[0m - Executing 'read_dataframe-1' immediately...\n"
      ]
     },
     "metadata": {},
     "output_type": "display_data"
    },
    {
     "data": {
      "text/html": [
       "<pre style=\"white-space:pre;overflow-x:auto;line-height:normal;font-family:Menlo,'DejaVu Sans Mono',consolas,'Courier New',monospace\">16:42:32.304 | <span style=\"color: #008080; text-decoration-color: #008080\">INFO</span>    | Task run 'read_dataframe-1' - Finished in state <span style=\"color: #008000; text-decoration-color: #008000\">Completed</span>()\n",
       "</pre>\n"
      ],
      "text/plain": [
       "16:42:32.304 | \u001b[36mINFO\u001b[0m    | Task run 'read_dataframe-1' - Finished in state \u001b[32mCompleted\u001b[0m()\n"
      ]
     },
     "metadata": {},
     "output_type": "display_data"
    },
    {
     "data": {
      "text/html": [
       "<pre style=\"white-space:pre;overflow-x:auto;line-height:normal;font-family:Menlo,'DejaVu Sans Mono',consolas,'Courier New',monospace\">16:42:32.386 | <span style=\"color: #008080; text-decoration-color: #008080\">INFO</span>    | Flow run<span style=\"color: #800080; text-decoration-color: #800080\"> 'garnet-woodlouse'</span> - Created task run 'add_features-0' for task 'add_features'\n",
       "</pre>\n"
      ],
      "text/plain": [
       "16:42:32.386 | \u001b[36mINFO\u001b[0m    | Flow run\u001b[35m 'garnet-woodlouse'\u001b[0m - Created task run 'add_features-0' for task 'add_features'\n"
      ]
     },
     "metadata": {},
     "output_type": "display_data"
    },
    {
     "data": {
      "text/html": [
       "<pre style=\"white-space:pre;overflow-x:auto;line-height:normal;font-family:Menlo,'DejaVu Sans Mono',consolas,'Courier New',monospace\">16:42:32.394 | <span style=\"color: #008080; text-decoration-color: #008080\">INFO</span>    | Flow run<span style=\"color: #800080; text-decoration-color: #800080\"> 'garnet-woodlouse'</span> - Executing 'add_features-0' immediately...\n",
       "</pre>\n"
      ],
      "text/plain": [
       "16:42:32.394 | \u001b[36mINFO\u001b[0m    | Flow run\u001b[35m 'garnet-woodlouse'\u001b[0m - Executing 'add_features-0' immediately...\n"
      ]
     },
     "metadata": {},
     "output_type": "display_data"
    },
    {
     "name": "stdout",
     "output_type": "stream",
     "text": [
      "66097\n",
      "59603\n"
     ]
    },
    {
     "data": {
      "text/html": [
       "<pre style=\"white-space:pre;overflow-x:auto;line-height:normal;font-family:Menlo,'DejaVu Sans Mono',consolas,'Courier New',monospace\">16:42:40.653 | <span style=\"color: #008080; text-decoration-color: #008080\">INFO</span>    | Task run 'add_features-0' - Finished in state <span style=\"color: #008000; text-decoration-color: #008000\">Completed</span>()\n",
       "</pre>\n"
      ],
      "text/plain": [
       "16:42:40.653 | \u001b[36mINFO\u001b[0m    | Task run 'add_features-0' - Finished in state \u001b[32mCompleted\u001b[0m()\n"
      ]
     },
     "metadata": {},
     "output_type": "display_data"
    },
    {
     "data": {
      "text/html": [
       "<pre style=\"white-space:pre;overflow-x:auto;line-height:normal;font-family:Menlo,'DejaVu Sans Mono',consolas,'Courier New',monospace\">16:42:40.730 | <span style=\"color: #008080; text-decoration-color: #008080\">INFO</span>    | Flow run<span style=\"color: #800080; text-decoration-color: #800080\"> 'garnet-woodlouse'</span> - Created task run 'train_model_search-0' for task 'train_model_search'\n",
       "</pre>\n"
      ],
      "text/plain": [
       "16:42:40.730 | \u001b[36mINFO\u001b[0m    | Flow run\u001b[35m 'garnet-woodlouse'\u001b[0m - Created task run 'train_model_search-0' for task 'train_model_search'\n"
      ]
     },
     "metadata": {},
     "output_type": "display_data"
    },
    {
     "data": {
      "text/html": [
       "<pre style=\"white-space:pre;overflow-x:auto;line-height:normal;font-family:Menlo,'DejaVu Sans Mono',consolas,'Courier New',monospace\">16:42:40.732 | <span style=\"color: #008080; text-decoration-color: #008080\">INFO</span>    | Flow run<span style=\"color: #800080; text-decoration-color: #800080\"> 'garnet-woodlouse'</span> - Executing 'train_model_search-0' immediately...\n",
       "</pre>\n"
      ],
      "text/plain": [
       "16:42:40.732 | \u001b[36mINFO\u001b[0m    | Flow run\u001b[35m 'garnet-woodlouse'\u001b[0m - Executing 'train_model_search-0' immediately...\n"
      ]
     },
     "metadata": {},
     "output_type": "display_data"
    },
    {
     "name": "stdout",
     "output_type": "stream",
     "text": [
      "\r",
      "  0%|                                     | 0/1 [00:00<?, ?trial/s, best loss=?]"
     ]
    },
    {
     "name": "stderr",
     "output_type": "stream",
     "text": [
      "[16:42:41] WARNING: ../src/objective/regression_obj.cu:213: reg:linear is now deprecated in favor of reg:squarederror.\n"
     ]
    },
    {
     "name": "stdout",
     "output_type": "stream",
     "text": [
      "[0]\tvalidation-rmse:11.73198                                                    \n",
      "[1]\tvalidation-rmse:8.76508                                                     \n",
      "[2]\tvalidation-rmse:7.07900                                                     \n",
      "[3]\tvalidation-rmse:6.21790                                                     \n",
      "[4]\tvalidation-rmse:5.82947                                                     \n",
      "[5]\tvalidation-rmse:5.67790                                                     \n",
      "[6]\tvalidation-rmse:5.63040                                                     \n",
      "[7]\tvalidation-rmse:5.62584                                                     \n",
      "[8]\tvalidation-rmse:5.63265                                                     \n",
      "[9]\tvalidation-rmse:5.64180                                                     \n",
      "[10]\tvalidation-rmse:5.65232                                                    \n",
      "[11]\tvalidation-rmse:5.65604                                                    \n",
      "[12]\tvalidation-rmse:5.66039                                                    \n",
      "[13]\tvalidation-rmse:5.66402                                                    \n",
      "[14]\tvalidation-rmse:5.66329                                                    \n",
      "[15]\tvalidation-rmse:5.66362                                                    \n",
      "[16]\tvalidation-rmse:5.66401                                                    \n",
      "[17]\tvalidation-rmse:5.66408                                                    \n",
      "[18]\tvalidation-rmse:5.66355                                                    \n",
      "[19]\tvalidation-rmse:5.65856                                                    \n",
      "[20]\tvalidation-rmse:5.65729                                                    \n",
      "[21]\tvalidation-rmse:5.65675                                                    \n",
      "[22]\tvalidation-rmse:5.65649                                                    \n",
      "[23]\tvalidation-rmse:5.65689                                                    \n",
      "[24]\tvalidation-rmse:5.65586                                                    \n",
      "[25]\tvalidation-rmse:5.65574                                                    \n",
      "[26]\tvalidation-rmse:5.65600                                                    \n",
      "[27]\tvalidation-rmse:5.65560                                                    \n",
      "[28]\tvalidation-rmse:5.65574                                                    \n",
      "[29]\tvalidation-rmse:5.65547                                                    \n",
      "[30]\tvalidation-rmse:5.65575                                                    \n",
      "[31]\tvalidation-rmse:5.65438                                                    \n",
      "[32]\tvalidation-rmse:5.65374                                                    \n",
      "[33]\tvalidation-rmse:5.65339                                                    \n",
      "[34]\tvalidation-rmse:5.65308                                                    \n",
      "[35]\tvalidation-rmse:5.65328                                                    \n",
      "[36]\tvalidation-rmse:5.65360                                                    \n",
      "[37]\tvalidation-rmse:5.65166                                                    \n",
      "[38]\tvalidation-rmse:5.65131                                                    \n",
      "[39]\tvalidation-rmse:5.65059                                                    \n",
      "[40]\tvalidation-rmse:5.65046                                                    \n",
      "[41]\tvalidation-rmse:5.65058                                                    \n",
      "[42]\tvalidation-rmse:5.64804                                                    \n",
      "[43]\tvalidation-rmse:5.64959                                                    \n",
      "[44]\tvalidation-rmse:5.64889                                                    \n",
      "[45]\tvalidation-rmse:5.64858                                                    \n",
      "[46]\tvalidation-rmse:5.64912                                                    \n",
      "[47]\tvalidation-rmse:5.64878                                                    \n",
      "[48]\tvalidation-rmse:5.64942                                                    \n",
      "[49]\tvalidation-rmse:5.64986                                                    \n",
      "[50]\tvalidation-rmse:5.64920                                                    \n",
      "[51]\tvalidation-rmse:5.64975                                                    \n",
      "[52]\tvalidation-rmse:5.65004                                                    \n",
      "[53]\tvalidation-rmse:5.65065                                                    \n",
      "[54]\tvalidation-rmse:5.65083                                                    \n",
      "[55]\tvalidation-rmse:5.65146                                                    \n",
      "[56]\tvalidation-rmse:5.65152                                                    \n",
      "100%|████████████| 1/1 [00:07<00:00,  7.23s/trial, best loss: 5.651578816461998]\n"
     ]
    },
    {
     "data": {
      "text/html": [
       "<pre style=\"white-space:pre;overflow-x:auto;line-height:normal;font-family:Menlo,'DejaVu Sans Mono',consolas,'Courier New',monospace\">16:42:48.183 | <span style=\"color: #008080; text-decoration-color: #008080\">INFO</span>    | Task run 'train_model_search-0' - Finished in state <span style=\"color: #008000; text-decoration-color: #008000\">Completed</span>()\n",
       "</pre>\n"
      ],
      "text/plain": [
       "16:42:48.183 | \u001b[36mINFO\u001b[0m    | Task run 'train_model_search-0' - Finished in state \u001b[32mCompleted\u001b[0m()\n"
      ]
     },
     "metadata": {},
     "output_type": "display_data"
    },
    {
     "data": {
      "text/html": [
       "<pre style=\"white-space:pre;overflow-x:auto;line-height:normal;font-family:Menlo,'DejaVu Sans Mono',consolas,'Courier New',monospace\">16:42:48.245 | <span style=\"color: #008080; text-decoration-color: #008080\">INFO</span>    | Flow run<span style=\"color: #800080; text-decoration-color: #800080\"> 'garnet-woodlouse'</span> - Created task run 'train_best_model-0' for task 'train_best_model'\n",
       "</pre>\n"
      ],
      "text/plain": [
       "16:42:48.245 | \u001b[36mINFO\u001b[0m    | Flow run\u001b[35m 'garnet-woodlouse'\u001b[0m - Created task run 'train_best_model-0' for task 'train_best_model'\n"
      ]
     },
     "metadata": {},
     "output_type": "display_data"
    },
    {
     "data": {
      "text/html": [
       "<pre style=\"white-space:pre;overflow-x:auto;line-height:normal;font-family:Menlo,'DejaVu Sans Mono',consolas,'Courier New',monospace\">16:42:48.248 | <span style=\"color: #008080; text-decoration-color: #008080\">INFO</span>    | Flow run<span style=\"color: #800080; text-decoration-color: #800080\"> 'garnet-woodlouse'</span> - Executing 'train_best_model-0' immediately...\n",
       "</pre>\n"
      ],
      "text/plain": [
       "16:42:48.248 | \u001b[36mINFO\u001b[0m    | Flow run\u001b[35m 'garnet-woodlouse'\u001b[0m - Executing 'train_best_model-0' immediately...\n"
      ]
     },
     "metadata": {},
     "output_type": "display_data"
    },
    {
     "name": "stderr",
     "output_type": "stream",
     "text": [
      "[16:42:48] WARNING: ../src/objective/regression_obj.cu:213: reg:linear is now deprecated in favor of reg:squarederror.\n"
     ]
    },
    {
     "name": "stdout",
     "output_type": "stream",
     "text": [
      "[0]\tvalidation-rmse:15.07692\n",
      "[1]\tvalidation-rmse:13.76811\n",
      "[2]\tvalidation-rmse:12.60608\n",
      "[3]\tvalidation-rmse:11.57898\n",
      "[4]\tvalidation-rmse:10.67389\n",
      "[5]\tvalidation-rmse:9.88104\n",
      "[6]\tvalidation-rmse:9.18852\n",
      "[7]\tvalidation-rmse:8.58618\n",
      "[8]\tvalidation-rmse:8.07301\n",
      "[9]\tvalidation-rmse:7.63151\n",
      "[10]\tvalidation-rmse:7.25677\n",
      "[11]\tvalidation-rmse:6.93943\n",
      "[12]\tvalidation-rmse:6.68086\n",
      "[13]\tvalidation-rmse:6.45915\n",
      "[14]\tvalidation-rmse:6.27859\n",
      "[15]\tvalidation-rmse:6.13557\n",
      "[16]\tvalidation-rmse:6.01482\n",
      "[17]\tvalidation-rmse:5.91964\n",
      "[18]\tvalidation-rmse:5.84447\n",
      "[19]\tvalidation-rmse:5.78405\n",
      "[20]\tvalidation-rmse:5.74105\n",
      "[21]\tvalidation-rmse:5.70337\n",
      "[22]\tvalidation-rmse:5.67429\n",
      "[23]\tvalidation-rmse:5.65410\n",
      "[24]\tvalidation-rmse:5.63817\n",
      "[25]\tvalidation-rmse:5.62572\n",
      "[26]\tvalidation-rmse:5.61880\n",
      "[27]\tvalidation-rmse:5.61323\n",
      "[28]\tvalidation-rmse:5.60971\n",
      "[29]\tvalidation-rmse:5.60822\n",
      "[30]\tvalidation-rmse:5.60697\n",
      "[31]\tvalidation-rmse:5.60723\n",
      "[32]\tvalidation-rmse:5.60755\n",
      "[33]\tvalidation-rmse:5.60853\n",
      "[34]\tvalidation-rmse:5.61023\n",
      "[35]\tvalidation-rmse:5.61135\n",
      "[36]\tvalidation-rmse:5.61199\n",
      "[37]\tvalidation-rmse:5.61389\n",
      "[38]\tvalidation-rmse:5.61638\n",
      "[39]\tvalidation-rmse:5.61772\n",
      "[40]\tvalidation-rmse:5.61938\n",
      "[41]\tvalidation-rmse:5.62039\n",
      "[42]\tvalidation-rmse:5.62165\n",
      "[43]\tvalidation-rmse:5.62317\n",
      "[44]\tvalidation-rmse:5.62427\n",
      "[45]\tvalidation-rmse:5.62535\n",
      "[46]\tvalidation-rmse:5.62591\n",
      "[47]\tvalidation-rmse:5.62670\n",
      "[48]\tvalidation-rmse:5.62766\n",
      "[49]\tvalidation-rmse:5.62872\n",
      "[50]\tvalidation-rmse:5.62978\n",
      "[51]\tvalidation-rmse:5.63039\n",
      "[52]\tvalidation-rmse:5.63068\n",
      "[53]\tvalidation-rmse:5.63058\n",
      "[54]\tvalidation-rmse:5.63073\n",
      "[55]\tvalidation-rmse:5.63076\n",
      "[56]\tvalidation-rmse:5.63087\n",
      "[57]\tvalidation-rmse:5.63065\n",
      "[58]\tvalidation-rmse:5.63033\n",
      "[59]\tvalidation-rmse:5.63050\n",
      "[60]\tvalidation-rmse:5.63028\n",
      "[61]\tvalidation-rmse:5.63023\n",
      "[62]\tvalidation-rmse:5.63018\n",
      "[63]\tvalidation-rmse:5.62969\n",
      "[64]\tvalidation-rmse:5.62939\n",
      "[65]\tvalidation-rmse:5.62922\n",
      "[66]\tvalidation-rmse:5.62905\n",
      "[67]\tvalidation-rmse:5.62902\n",
      "[68]\tvalidation-rmse:5.62872\n",
      "[69]\tvalidation-rmse:5.62830\n",
      "[70]\tvalidation-rmse:5.62825\n",
      "[71]\tvalidation-rmse:5.62777\n",
      "[72]\tvalidation-rmse:5.62717\n",
      "[73]\tvalidation-rmse:5.62678\n",
      "[74]\tvalidation-rmse:5.62627\n",
      "[75]\tvalidation-rmse:5.62609\n",
      "[76]\tvalidation-rmse:5.62562\n",
      "[77]\tvalidation-rmse:5.62524\n",
      "[78]\tvalidation-rmse:5.62482\n",
      "[79]\tvalidation-rmse:5.62434\n"
     ]
    },
    {
     "data": {
      "text/html": [
       "<pre style=\"white-space:pre;overflow-x:auto;line-height:normal;font-family:Menlo,'DejaVu Sans Mono',consolas,'Courier New',monospace\">16:43:01.332 | <span style=\"color: #008080; text-decoration-color: #008080\">INFO</span>    | Task run 'train_best_model-0' - Finished in state <span style=\"color: #008000; text-decoration-color: #008000\">Completed</span>()\n",
       "</pre>\n"
      ],
      "text/plain": [
       "16:43:01.332 | \u001b[36mINFO\u001b[0m    | Task run 'train_best_model-0' - Finished in state \u001b[32mCompleted\u001b[0m()\n"
      ]
     },
     "metadata": {},
     "output_type": "display_data"
    },
    {
     "data": {
      "text/html": [
       "<pre style=\"white-space:pre;overflow-x:auto;line-height:normal;font-family:Menlo,'DejaVu Sans Mono',consolas,'Courier New',monospace\">16:43:09.942 | <span style=\"color: #008080; text-decoration-color: #008080\">INFO</span>    | Flow run<span style=\"color: #800080; text-decoration-color: #800080\"> 'garnet-woodlouse'</span> - Finished in state <span style=\"color: #008000; text-decoration-color: #008000\">Completed</span>('All states completed.')\n",
       "</pre>\n"
      ],
      "text/plain": [
       "16:43:09.942 | \u001b[36mINFO\u001b[0m    | Flow run\u001b[35m 'garnet-woodlouse'\u001b[0m - Finished in state \u001b[32mCompleted\u001b[0m('All states completed.')\n"
      ]
     },
     "metadata": {},
     "output_type": "display_data"
    },
    {
     "data": {
      "text/plain": [
       "[Completed(message=None, type=COMPLETED, result=       VendorID lpep_pickup_datetime lpep_dropoff_datetime store_and_fwd_flag  \\\n",
       " 0             2  2022-02-01 00:20:21   2022-02-01 00:24:30                  N   \n",
       " 1             2  2022-02-01 00:32:26   2022-02-01 00:35:31                  N   \n",
       " 2             1  2022-02-01 00:17:27   2022-02-01 00:44:44                  N   \n",
       " 3             2  2022-02-01 00:45:37   2022-02-01 01:27:16                  N   \n",
       " 4             2  2022-02-01 00:06:46   2022-02-01 00:30:06                  N   \n",
       " ...         ...                  ...                   ...                ...   \n",
       " 69394         2  2022-02-28 23:27:00   2022-02-28 23:38:00               None   \n",
       " 69395         2  2022-02-28 23:59:00   2022-03-01 00:10:00               None   \n",
       " 69396         2  2022-02-28 23:18:00   2022-02-28 23:27:00               None   \n",
       " 69397         2  2022-02-28 23:31:00   2022-02-28 23:39:00               None   \n",
       " 69398         2  2022-02-28 23:14:00   2022-02-28 23:35:00               None   \n",
       " \n",
       "        RatecodeID PULocationID DOLocationID  passenger_count  trip_distance  \\\n",
       " 0             1.0           43          238              1.0           1.16   \n",
       " 1             1.0          166           24              1.0           0.57   \n",
       " 2             1.0          226          219              1.0           0.00   \n",
       " 3             1.0           89           83              1.0          16.62   \n",
       " 4             1.0            7          238              1.0           5.97   \n",
       " ...           ...          ...          ...              ...            ...   \n",
       " 69394         NaN           65           87              NaN           2.61   \n",
       " 69395         NaN           97          231              NaN           2.88   \n",
       " 69396         NaN           74          116              NaN           2.22   \n",
       " 69397         NaN           42           69              NaN           1.59   \n",
       " 69398         NaN          243          100              NaN           8.16   \n",
       " \n",
       "        fare_amount  ...  tip_amount  tolls_amount  ehail_fee  \\\n",
       " 0             5.50  ...        1.02           0.0       None   \n",
       " 1             4.50  ...        0.00           0.0       None   \n",
       " 2            42.20  ...        0.00           0.0       None   \n",
       " 3            49.00  ...        0.00           0.0       None   \n",
       " 4            21.00  ...        4.50           0.0       None   \n",
       " ...            ...  ...         ...           ...        ...   \n",
       " 69394        13.60  ...        3.66           0.0       None   \n",
       " 69395        12.07  ...        3.00           0.0       None   \n",
       " 69396        10.68  ...        1.22           0.0       None   \n",
       " 69397         8.88  ...        0.00           0.0       None   \n",
       " 69398        27.74  ...        6.79           0.0       None   \n",
       " \n",
       "        improvement_surcharge total_amount  payment_type  trip_type  \\\n",
       " 0                        0.3         7.82           1.0        1.0   \n",
       " 1                        0.3         5.80           2.0        1.0   \n",
       " 2                        0.3        43.00           1.0        1.0   \n",
       " 3                        0.3        50.30           2.0        1.0   \n",
       " 4                        0.3        29.55           1.0        1.0   \n",
       " ...                      ...          ...           ...        ...   \n",
       " 69394                    0.3        20.31           NaN        NaN   \n",
       " 69395                    0.3        18.12           NaN        NaN   \n",
       " 69396                    0.3        12.20           NaN        NaN   \n",
       " 69397                    0.3         9.18           NaN        NaN   \n",
       " 69398                    0.3        37.58           NaN        NaN   \n",
       " \n",
       "        congestion_surcharge   duration    PU_DO  \n",
       " 0                      0.00   4.150000   43_238  \n",
       " 1                      0.00   3.083333   166_24  \n",
       " 2                      0.00  27.283333  226_219  \n",
       " 3                      0.00  41.650000    89_83  \n",
       " 4                      2.75  23.333333    7_238  \n",
       " ...                     ...        ...      ...  \n",
       " 69394                   NaN  11.000000    65_87  \n",
       " 69395                   NaN  11.000000   97_231  \n",
       " 69396                   NaN   9.000000   74_116  \n",
       " 69397                   NaN   8.000000    42_69  \n",
       " 69398                   NaN  21.000000  243_100  \n",
       " \n",
       " [66097 rows x 22 columns]),\n",
       " Completed(message=None, type=COMPLETED, result=       VendorID lpep_pickup_datetime lpep_dropoff_datetime store_and_fwd_flag  \\\n",
       " 0             2  2022-01-01 00:14:21   2022-01-01 00:15:33                  N   \n",
       " 1             1  2022-01-01 00:20:55   2022-01-01 00:29:38                  N   \n",
       " 2             1  2022-01-01 00:57:02   2022-01-01 01:13:14                  N   \n",
       " 3             2  2022-01-01 00:07:42   2022-01-01 00:15:57                  N   \n",
       " 4             2  2022-01-01 00:07:50   2022-01-01 00:28:52                  N   \n",
       " ...         ...                  ...                   ...                ...   \n",
       " 62490         2  2022-01-31 23:25:00   2022-01-31 23:33:00               None   \n",
       " 62491         2  2022-01-31 23:52:00   2022-02-01 00:10:00               None   \n",
       " 62492         2  2022-01-31 23:17:00   2022-01-31 23:36:00               None   \n",
       " 62493         2  2022-01-31 23:45:00   2022-01-31 23:55:00               None   \n",
       " 62494         2  2022-01-31 23:52:00   2022-02-01 00:26:00               None   \n",
       " \n",
       "        RatecodeID PULocationID DOLocationID  passenger_count  trip_distance  \\\n",
       " 0             1.0           42           42              1.0           0.44   \n",
       " 1             1.0          116           41              1.0           2.10   \n",
       " 2             1.0           41          140              1.0           3.70   \n",
       " 3             1.0          181          181              1.0           1.69   \n",
       " 4             1.0           33          170              1.0           6.26   \n",
       " ...           ...          ...          ...              ...            ...   \n",
       " 62490         NaN           40           65              NaN           1.40   \n",
       " 62491         NaN           36           61              NaN           2.97   \n",
       " 62492         NaN           75          167              NaN           3.70   \n",
       " 62493         NaN          116          166              NaN           1.88   \n",
       " 62494         NaN          225          179              NaN           9.60   \n",
       " \n",
       "        fare_amount  ...  tip_amount  tolls_amount  ehail_fee  \\\n",
       " 0             3.50  ...        0.00           0.0       None   \n",
       " 1             9.50  ...        0.00           0.0       None   \n",
       " 2            14.50  ...        4.60           0.0       None   \n",
       " 3             8.00  ...        0.00           0.0       None   \n",
       " 4            22.00  ...        5.21           0.0       None   \n",
       " ...            ...  ...         ...           ...        ...   \n",
       " 62490         8.38  ...        1.93           0.0       None   \n",
       " 62491        14.92  ...        0.00           0.0       None   \n",
       " 62492        16.26  ...        0.00           0.0       None   \n",
       " 62493         9.48  ...        2.17           0.0       None   \n",
       " 62494        32.18  ...        7.23          10.0       None   \n",
       " \n",
       "        improvement_surcharge total_amount  payment_type  trip_type  \\\n",
       " 0                        0.3         4.80           2.0        1.0   \n",
       " 1                        0.3        10.80           2.0        1.0   \n",
       " 2                        0.3        23.15           1.0        1.0   \n",
       " 3                        0.3         9.30           2.0        1.0   \n",
       " 4                        0.3        31.26           1.0        1.0   \n",
       " ...                      ...          ...           ...        ...   \n",
       " 62490                    0.3        10.61           NaN        NaN   \n",
       " 62491                    0.3        15.22           NaN        NaN   \n",
       " 62492                    0.3        16.56           NaN        NaN   \n",
       " 62493                    0.3        11.95           NaN        NaN   \n",
       " 62494                    0.3        49.71           NaN        NaN   \n",
       " \n",
       "        congestion_surcharge   duration    PU_DO  \n",
       " 0                      0.00   1.200000    42_42  \n",
       " 1                      0.00   8.716667   116_41  \n",
       " 2                      2.75  16.200000   41_140  \n",
       " 3                      0.00   8.250000  181_181  \n",
       " 4                      2.75  21.033333   33_170  \n",
       " ...                     ...        ...      ...  \n",
       " 62490                   NaN   8.000000    40_65  \n",
       " 62491                   NaN  18.000000    36_61  \n",
       " 62492                   NaN  19.000000   75_167  \n",
       " 62493                   NaN  10.000000  116_166  \n",
       " 62494                   NaN  34.000000  225_179  \n",
       " \n",
       " [59603 rows x 22 columns]),\n",
       " Completed(message=None, type=COMPLETED, result=(<66097x6795 sparse matrix of type '<class 'numpy.float64'>'\n",
       " \twith 132194 stored elements in Compressed Sparse Row format>, <59603x6795 sparse matrix of type '<class 'numpy.float64'>'\n",
       " \twith 115793 stored elements in Compressed Sparse Row format>, array([ 4.15      ,  3.08333333, 27.28333333, ...,  9.        ,\n",
       "         8.        , 21.        ]), array([ 1.2       ,  8.71666667, 16.2       , ..., 19.        ,\n",
       "        10.        , 34.        ]), DictVectorizer())),\n",
       " Completed(message=None, type=COMPLETED, result=LiteralResult(type='literal', value=None)),\n",
       " Completed(message=None, type=COMPLETED, result=LiteralResult(type='literal', value=None))]"
      ]
     },
     "execution_count": 8,
     "metadata": {},
     "output_type": "execute_result"
    }
   ],
   "source": [
    "main()"
   ]
  },
  {
   "cell_type": "code",
   "execution_count": null,
   "id": "25fef733",
   "metadata": {},
   "outputs": [],
   "source": []
  }
 ],
 "metadata": {
  "kernelspec": {
   "display_name": "Python 3 (ipykernel)",
   "language": "python",
   "name": "python3"
  },
  "language_info": {
   "codemirror_mode": {
    "name": "ipython",
    "version": 3
   },
   "file_extension": ".py",
   "mimetype": "text/x-python",
   "name": "python",
   "nbconvert_exporter": "python",
   "pygments_lexer": "ipython3",
   "version": "3.8.3"
  }
 },
 "nbformat": 4,
 "nbformat_minor": 5
}
